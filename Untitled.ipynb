{
 "cells": [
  {
   "cell_type": "code",
   "execution_count": 1,
   "metadata": {},
   "outputs": [],
   "source": [
    "import tensorflow as tf\n",
    "import numpy as np\n",
    "import pandas as pd"
   ]
  },
  {
   "cell_type": "code",
   "execution_count": 2,
   "metadata": {},
   "outputs": [],
   "source": [
    "dir_train = \"./sign_mnist_train/sign_mnist_train.csv\""
   ]
  },
  {
   "cell_type": "code",
   "execution_count": 3,
   "metadata": {},
   "outputs": [],
   "source": [
    "dir_test = \"./sign_mnist_test/sign_mnist_test.csv\""
   ]
  },
  {
   "cell_type": "code",
   "execution_count": 4,
   "metadata": {},
   "outputs": [],
   "source": [
    "df_train = pd.read_csv(dir_train)"
   ]
  },
  {
   "cell_type": "code",
   "execution_count": 7,
   "metadata": {},
   "outputs": [],
   "source": [
    "df_test = pd.read_csv(dir_test)"
   ]
  },
  {
   "cell_type": "code",
   "execution_count": 10,
   "metadata": {},
   "outputs": [],
   "source": [
    "import tensorflow.keras as keras"
   ]
  },
  {
   "cell_type": "code",
   "execution_count": 18,
   "metadata": {},
   "outputs": [
    {
     "data": {
      "text/plain": [
       "False"
      ]
     },
     "execution_count": 18,
     "metadata": {},
     "output_type": "execute_result"
    }
   ],
   "source": [
    "df_train.isna().values.any()"
   ]
  },
  {
   "cell_type": "code",
   "execution_count": 21,
   "metadata": {},
   "outputs": [],
   "source": [
    "X_train = df_train.drop([\"label\"], axis=1)"
   ]
  },
  {
   "cell_type": "code",
   "execution_count": 23,
   "metadata": {},
   "outputs": [],
   "source": [
    "Y_train = df_train[\"label\"]"
   ]
  },
  {
   "cell_type": "code",
   "execution_count": 24,
   "metadata": {},
   "outputs": [],
   "source": [
    "X_train_values = X_train.values"
   ]
  },
  {
   "cell_type": "code",
   "execution_count": 27,
   "metadata": {},
   "outputs": [],
   "source": [
    "X_train_values = X_train_values / 255"
   ]
  },
  {
   "cell_type": "code",
   "execution_count": 30,
   "metadata": {},
   "outputs": [],
   "source": [
    "import matplotlib.pyplot as plt"
   ]
  },
  {
   "cell_type": "code",
   "execution_count": 49,
   "metadata": {},
   "outputs": [],
   "source": [
    "image = X_train_values[2].reshape((28, 28))\n",
    "image_label = Y_train[2]"
   ]
  },
  {
   "cell_type": "code",
   "execution_count": null,
   "metadata": {},
   "outputs": [],
   "source": []
  },
  {
   "cell_type": "code",
   "execution_count": 50,
   "metadata": {},
   "outputs": [
    {
     "data": {
      "text/plain": [
       "24"
      ]
     },
     "execution_count": 50,
     "metadata": {},
     "output_type": "execute_result"
    }
   ],
   "source": [
    "Y_train.values.max()"
   ]
  },
  {
   "cell_type": "code",
   "execution_count": 51,
   "metadata": {},
   "outputs": [
    {
     "data": {
      "text/plain": [
       "26"
      ]
     },
     "execution_count": 51,
     "metadata": {},
     "output_type": "execute_result"
    }
   ],
   "source": [
    "alphabets = [\"a\", \"b\", 'c', 'd', 'e', 'f', 'g', 'h', 'i', 'j', 'k', 'l', 'm', 'n', 'o', 'p', 'q', 'r', 's', 't', 'u', 'v', 'w', 'x', 'y', 'z']\n",
    "len(alphabets)"
   ]
  },
  {
   "cell_type": "code",
   "execution_count": 52,
   "metadata": {},
   "outputs": [],
   "source": [
    "labels = {}\n",
    "for i in range(len(alphabets)):\n",
    "    labels[i] = alphabets[i]"
   ]
  },
  {
   "cell_type": "code",
   "execution_count": 53,
   "metadata": {},
   "outputs": [
    {
     "data": {
      "image/png": "[encoded data removed]",
      "text/plain": [
       "<Figure size 432x288 with 1 Axes>"
      ]
     },
     "metadata": {
      "needs_background": "light"
     },
     "output_type": "display_data"
    }
   ],
   "source": [
    "plt.imshow(image)\n",
    "plt.xlabel(labels[image_label])\n",
    "plt.show()"
   ]
  },
  {
   "cell_type": "code",
   "execution_count": 173,
   "metadata": {},
   "outputs": [],
   "source": [
    "ann = keras.Sequential([\n",
    "    keras.layers.Dense(128, input_shape=(784,), activation=\"relu\"),\n",
    "    keras.layers.Dense(64, activation=\"relu\"),\n",
    "    keras.layers.Dropout(0.3),\n",
    "    keras.layers.Dense(32, activation=\"relu\"),\n",
    "    keras.layers.Dense(26, activation=\"relu\"),\n",
    "    keras.layers.Dense(26, activation=\"relu\"),\n",
    "    keras.layers.Dense(26, activation=\"sigmoid\")\n",
    "])"
   ]
  },
  {
   "cell_type": "code",
   "execution_count": 174,
   "metadata": {},
   "outputs": [
    {
     "name": "stdout",
     "output_type": "stream",
     "text": [
      "Model: \"sequential_9\"\n",
      "_________________________________________________________________\n",
      "Layer (type)                 Output Shape              Param #   \n",
      "=================================================================\n",
      "dense_41 (Dense)             (None, 128)               100480    \n",
      "_________________________________________________________________\n",
      "dense_42 (Dense)             (None, 64)                8256      \n",
      "_________________________________________________________________\n",
      "dropout_9 (Dropout)          (None, 64)                0         \n",
      "_________________________________________________________________\n",
      "dense_43 (Dense)             (None, 32)                2080      \n",
      "_________________________________________________________________\n",
      "dense_44 (Dense)             (None, 26)                858       \n",
      "_________________________________________________________________\n",
      "dense_45 (Dense)             (None, 26)                702       \n",
      "_________________________________________________________________\n",
      "dense_46 (Dense)             (None, 26)                702       \n",
      "=================================================================\n",
      "Total params: 113,078\n",
      "Trainable params: 113,078\n",
      "Non-trainable params: 0\n",
      "_________________________________________________________________\n"
     ]
    }
   ],
   "source": [
    "ann.summary()"
   ]
  },
  {
   "cell_type": "code",
   "execution_count": 228,
   "metadata": {},
   "outputs": [],
   "source": [
    "opt = keras.optimizers.Adam(learning_rate=0.00001)\n",
    "ann.compile(loss='categorical_crossentropy', optimizer='adam', metrics=[\"accuracy\"])"
   ]
  },
  {
   "cell_type": "code",
   "execution_count": 229,
   "metadata": {},
   "outputs": [
    {
     "name": "stdout",
     "output_type": "stream",
     "text": [
      "Model: \"sequential_9\"\n",
      "_________________________________________________________________\n",
      "Layer (type)                 Output Shape              Param #   \n",
      "=================================================================\n",
      "dense_41 (Dense)             (None, 128)               100480    \n",
      "_________________________________________________________________\n",
      "dense_42 (Dense)             (None, 64)                8256      \n",
      "_________________________________________________________________\n",
      "dropout_9 (Dropout)          (None, 64)                0         \n",
      "_________________________________________________________________\n",
      "dense_43 (Dense)             (None, 32)                2080      \n",
      "_________________________________________________________________\n",
      "dense_44 (Dense)             (None, 26)                858       \n",
      "_________________________________________________________________\n",
      "dense_45 (Dense)             (None, 26)                702       \n",
      "_________________________________________________________________\n",
      "dense_46 (Dense)             (None, 26)                702       \n",
      "=================================================================\n",
      "Total params: 113,078\n",
      "Trainable params: 113,078\n",
      "Non-trainable params: 0\n",
      "_________________________________________________________________\n"
     ]
    }
   ],
   "source": [
    "ann.summary()"
   ]
  },
  {
   "cell_type": "code",
   "execution_count": 230,
   "metadata": {},
   "outputs": [],
   "source": [
    "Y_train_values = []"
   ]
  },
  {
   "cell_type": "code",
   "execution_count": 231,
   "metadata": {},
   "outputs": [],
   "source": [
    "for x in range(Y_train.values.shape[0]):\n",
    "    zeros = np.zeros(26)\n",
    "    zeros[Y_train.values[x]] = 1\n",
    "    Y_train_values.append(zeros)"
   ]
  },
  {
   "cell_type": "code",
   "execution_count": 232,
   "metadata": {},
   "outputs": [
    {
     "data": {
      "text/plain": [
       "True"
      ]
     },
     "execution_count": 232,
     "metadata": {},
     "output_type": "execute_result"
    }
   ],
   "source": [
    "Y_train_values[0].argmax() == Y_train.values[0]"
   ]
  },
  {
   "cell_type": "code",
   "execution_count": 233,
   "metadata": {},
   "outputs": [],
   "source": [
    "Y_train_values = np.array(Y_train_values)"
   ]
  },
  {
   "cell_type": "code",
   "execution_count": 234,
   "metadata": {},
   "outputs": [
    {
     "data": {
      "text/plain": [
       "array([[[0.41960784],\n",
       "        [0.4627451 ],\n",
       "        [0.49803922],\n",
       "        [0.5254902 ],\n",
       "        [0.54509804],\n",
       "        [0.56078431],\n",
       "        [0.57254902],\n",
       "        [0.58823529],\n",
       "        [0.6       ],\n",
       "        [0.61176471],\n",
       "        [0.61960784],\n",
       "        [0.62745098],\n",
       "        [0.63921569],\n",
       "        [0.64705882],\n",
       "        [0.62352941],\n",
       "        [0.65098039],\n",
       "        [0.65882353],\n",
       "        [0.66666667],\n",
       "        [0.66666667],\n",
       "        [0.67058824],\n",
       "        [0.67058824],\n",
       "        [0.67058824],\n",
       "        [0.6745098 ],\n",
       "        [0.67058824],\n",
       "        [0.67058824],\n",
       "        [0.66666667],\n",
       "        [0.66666667],\n",
       "        [0.6627451 ]],\n",
       "\n",
       "       [[0.43529412],\n",
       "        [0.4745098 ],\n",
       "        [0.50588235],\n",
       "        [0.52941176],\n",
       "        [0.55294118],\n",
       "        [0.56470588],\n",
       "        [0.58039216],\n",
       "        [0.59215686],\n",
       "        [0.60392157],\n",
       "        [0.61568627],\n",
       "        [0.62745098],\n",
       "        [0.63921569],\n",
       "        [0.64313725],\n",
       "        [0.66666667],\n",
       "        [0.46666667],\n",
       "        [0.59607843],\n",
       "        [0.67058824],\n",
       "        [0.67058824],\n",
       "        [0.66666667],\n",
       "        [0.67058824],\n",
       "        [0.6745098 ],\n",
       "        [0.6745098 ],\n",
       "        [0.6745098 ],\n",
       "        [0.6745098 ],\n",
       "        [0.6745098 ],\n",
       "        [0.67058824],\n",
       "        [0.67058824],\n",
       "        [0.66666667]],\n",
       "\n",
       "       [[0.44313725],\n",
       "        [0.48235294],\n",
       "        [0.51372549],\n",
       "        [0.5372549 ],\n",
       "        [0.55686275],\n",
       "        [0.56862745],\n",
       "        [0.58823529],\n",
       "        [0.59607843],\n",
       "        [0.60784314],\n",
       "        [0.61960784],\n",
       "        [0.63137255],\n",
       "        [0.63921569],\n",
       "        [0.64313725],\n",
       "        [0.6745098 ],\n",
       "        [0.41176471],\n",
       "        [0.55686275],\n",
       "        [0.66666667],\n",
       "        [0.67058824],\n",
       "        [0.67058824],\n",
       "        [0.67058824],\n",
       "        [0.6745098 ],\n",
       "        [0.6745098 ],\n",
       "        [0.67843137],\n",
       "        [0.67843137],\n",
       "        [0.6745098 ],\n",
       "        [0.67058824],\n",
       "        [0.67058824],\n",
       "        [0.67058824]],\n",
       "\n",
       "       [[0.45490196],\n",
       "        [0.49019608],\n",
       "        [0.52156863],\n",
       "        [0.54509804],\n",
       "        [0.56078431],\n",
       "        [0.57254902],\n",
       "        [0.59215686],\n",
       "        [0.6       ],\n",
       "        [0.61176471],\n",
       "        [0.62352941],\n",
       "        [0.63529412],\n",
       "        [0.63921569],\n",
       "        [0.65490196],\n",
       "        [0.65490196],\n",
       "        [0.37254902],\n",
       "        [0.56470588],\n",
       "        [0.67058824],\n",
       "        [0.6745098 ],\n",
       "        [0.6745098 ],\n",
       "        [0.6745098 ],\n",
       "        [0.6745098 ],\n",
       "        [0.6745098 ],\n",
       "        [0.67843137],\n",
       "        [0.67843137],\n",
       "        [0.67843137],\n",
       "        [0.6745098 ],\n",
       "        [0.6745098 ],\n",
       "        [0.67058824]],\n",
       "\n",
       "       [[0.45882353],\n",
       "        [0.49411765],\n",
       "        [0.5254902 ],\n",
       "        [0.54901961],\n",
       "        [0.56862745],\n",
       "        [0.58431373],\n",
       "        [0.6       ],\n",
       "        [0.61176471],\n",
       "        [0.61960784],\n",
       "        [0.63137255],\n",
       "        [0.63921569],\n",
       "        [0.64313725],\n",
       "        [0.68627451],\n",
       "        [0.61176471],\n",
       "        [0.34117647],\n",
       "        [0.60392157],\n",
       "        [0.6745098 ],\n",
       "        [0.67843137],\n",
       "        [0.67843137],\n",
       "        [0.67843137],\n",
       "        [0.67843137],\n",
       "        [0.67843137],\n",
       "        [0.68235294],\n",
       "        [0.68235294],\n",
       "        [0.68235294],\n",
       "        [0.67843137],\n",
       "        [0.6745098 ],\n",
       "        [0.6745098 ]],\n",
       "\n",
       "       [[0.46666667],\n",
       "        [0.50196078],\n",
       "        [0.53333333],\n",
       "        [0.55686275],\n",
       "        [0.57254902],\n",
       "        [0.58823529],\n",
       "        [0.6       ],\n",
       "        [0.61176471],\n",
       "        [0.62352941],\n",
       "        [0.63921569],\n",
       "        [0.64705882],\n",
       "        [0.64313725],\n",
       "        [0.72156863],\n",
       "        [0.58039216],\n",
       "        [0.34901961],\n",
       "        [0.64313725],\n",
       "        [0.6745098 ],\n",
       "        [0.68235294],\n",
       "        [0.68235294],\n",
       "        [0.68235294],\n",
       "        [0.68235294],\n",
       "        [0.68627451],\n",
       "        [0.68627451],\n",
       "        [0.68235294],\n",
       "        [0.68627451],\n",
       "        [0.68235294],\n",
       "        [0.67843137],\n",
       "        [0.67843137]],\n",
       "\n",
       "       [[0.47843137],\n",
       "        [0.50980392],\n",
       "        [0.54117647],\n",
       "        [0.56078431],\n",
       "        [0.57647059],\n",
       "        [0.58823529],\n",
       "        [0.60392157],\n",
       "        [0.61960784],\n",
       "        [0.63529412],\n",
       "        [0.64705882],\n",
       "        [0.65098039],\n",
       "        [0.6745098 ],\n",
       "        [0.70980392],\n",
       "        [0.50196078],\n",
       "        [0.36862745],\n",
       "        [0.66666667],\n",
       "        [0.67843137],\n",
       "        [0.68627451],\n",
       "        [0.68235294],\n",
       "        [0.68627451],\n",
       "        [0.69019608],\n",
       "        [0.69411765],\n",
       "        [0.69411765],\n",
       "        [0.69411765],\n",
       "        [0.69411765],\n",
       "        [0.68627451],\n",
       "        [0.68627451],\n",
       "        [0.68235294]],\n",
       "\n",
       "       [[0.47843137],\n",
       "        [0.51764706],\n",
       "        [0.54509804],\n",
       "        [0.56862745],\n",
       "        [0.58431373],\n",
       "        [0.59607843],\n",
       "        [0.61176471],\n",
       "        [0.62745098],\n",
       "        [0.63921569],\n",
       "        [0.64705882],\n",
       "        [0.65098039],\n",
       "        [0.70980392],\n",
       "        [0.6745098 ],\n",
       "        [0.40392157],\n",
       "        [0.44313725],\n",
       "        [0.68627451],\n",
       "        [0.69019608],\n",
       "        [0.69803922],\n",
       "        [0.69803922],\n",
       "        [0.70196078],\n",
       "        [0.70196078],\n",
       "        [0.70196078],\n",
       "        [0.70196078],\n",
       "        [0.69803922],\n",
       "        [0.70196078],\n",
       "        [0.69411765],\n",
       "        [0.68627451],\n",
       "        [0.68235294]],\n",
       "\n",
       "       [[0.49019608],\n",
       "        [0.5254902 ],\n",
       "        [0.55294118],\n",
       "        [0.57647059],\n",
       "        [0.58823529],\n",
       "        [0.6       ],\n",
       "        [0.61568627],\n",
       "        [0.63137255],\n",
       "        [0.64313725],\n",
       "        [0.65490196],\n",
       "        [0.65882353],\n",
       "        [0.72156863],\n",
       "        [0.70196078],\n",
       "        [0.45490196],\n",
       "        [0.49411765],\n",
       "        [0.64705882],\n",
       "        [0.69019608],\n",
       "        [0.70196078],\n",
       "        [0.70588235],\n",
       "        [0.70588235],\n",
       "        [0.70980392],\n",
       "        [0.70588235],\n",
       "        [0.70588235],\n",
       "        [0.70588235],\n",
       "        [0.70196078],\n",
       "        [0.69803922],\n",
       "        [0.69411765],\n",
       "        [0.69019608]],\n",
       "\n",
       "       [[0.50196078],\n",
       "        [0.52941176],\n",
       "        [0.55686275],\n",
       "        [0.58039216],\n",
       "        [0.59607843],\n",
       "        [0.60392157],\n",
       "        [0.61960784],\n",
       "        [0.63529412],\n",
       "        [0.64705882],\n",
       "        [0.65882353],\n",
       "        [0.66666667],\n",
       "        [0.73333333],\n",
       "        [0.70588235],\n",
       "        [0.61176471],\n",
       "        [0.63137255],\n",
       "        [0.48627451],\n",
       "        [0.56078431],\n",
       "        [0.70196078],\n",
       "        [0.69803922],\n",
       "        [0.69803922],\n",
       "        [0.70980392],\n",
       "        [0.71372549],\n",
       "        [0.70980392],\n",
       "        [0.70588235],\n",
       "        [0.70980392],\n",
       "        [0.70588235],\n",
       "        [0.70196078],\n",
       "        [0.70196078]],\n",
       "\n",
       "       [[0.50588235],\n",
       "        [0.53333333],\n",
       "        [0.56470588],\n",
       "        [0.58823529],\n",
       "        [0.6       ],\n",
       "        [0.60784314],\n",
       "        [0.62352941],\n",
       "        [0.63921569],\n",
       "        [0.65098039],\n",
       "        [0.6627451 ],\n",
       "        [0.6745098 ],\n",
       "        [0.73333333],\n",
       "        [0.72156863],\n",
       "        [0.6       ],\n",
       "        [0.4       ],\n",
       "        [0.45882353],\n",
       "        [0.43137255],\n",
       "        [0.68627451],\n",
       "        [0.6627451 ],\n",
       "        [0.60392157],\n",
       "        [0.71372549],\n",
       "        [0.71764706],\n",
       "        [0.71764706],\n",
       "        [0.71372549],\n",
       "        [0.71372549],\n",
       "        [0.70980392],\n",
       "        [0.70980392],\n",
       "        [0.70196078]],\n",
       "\n",
       "       [[0.51372549],\n",
       "        [0.54117647],\n",
       "        [0.56862745],\n",
       "        [0.58823529],\n",
       "        [0.60784314],\n",
       "        [0.61568627],\n",
       "        [0.63137255],\n",
       "        [0.64705882],\n",
       "        [0.65882353],\n",
       "        [0.68235294],\n",
       "        [0.74509804],\n",
       "        [0.74117647],\n",
       "        [0.68627451],\n",
       "        [0.57254902],\n",
       "        [0.36862745],\n",
       "        [0.38039216],\n",
       "        [0.44313725],\n",
       "        [0.59215686],\n",
       "        [0.61960784],\n",
       "        [0.50588235],\n",
       "        [0.72156863],\n",
       "        [0.72156863],\n",
       "        [0.72156863],\n",
       "        [0.72156863],\n",
       "        [0.71764706],\n",
       "        [0.71764706],\n",
       "        [0.71372549],\n",
       "        [0.70588235]],\n",
       "\n",
       "       [[0.51372549],\n",
       "        [0.54509804],\n",
       "        [0.57254902],\n",
       "        [0.59215686],\n",
       "        [0.60784314],\n",
       "        [0.62352941],\n",
       "        [0.63921569],\n",
       "        [0.65490196],\n",
       "        [0.68627451],\n",
       "        [0.71372549],\n",
       "        [0.70196078],\n",
       "        [0.67058824],\n",
       "        [0.62352941],\n",
       "        [0.44705882],\n",
       "        [0.4       ],\n",
       "        [0.34901961],\n",
       "        [0.4745098 ],\n",
       "        [0.53333333],\n",
       "        [0.53333333],\n",
       "        [0.37647059],\n",
       "        [0.6745098 ],\n",
       "        [0.72941176],\n",
       "        [0.72941176],\n",
       "        [0.7254902 ],\n",
       "        [0.7254902 ],\n",
       "        [0.72156863],\n",
       "        [0.71372549],\n",
       "        [0.70980392]],\n",
       "\n",
       "       [[0.51372549],\n",
       "        [0.54901961],\n",
       "        [0.57647059],\n",
       "        [0.60392157],\n",
       "        [0.61568627],\n",
       "        [0.62745098],\n",
       "        [0.64313725],\n",
       "        [0.70196078],\n",
       "        [0.72941176],\n",
       "        [0.74901961],\n",
       "        [0.73333333],\n",
       "        [0.70588235],\n",
       "        [0.61568627],\n",
       "        [0.39215686],\n",
       "        [0.34509804],\n",
       "        [0.32941176],\n",
       "        [0.42352941],\n",
       "        [0.43529412],\n",
       "        [0.49411765],\n",
       "        [0.35294118],\n",
       "        [0.47058824],\n",
       "        [0.72941176],\n",
       "        [0.73333333],\n",
       "        [0.73333333],\n",
       "        [0.72941176],\n",
       "        [0.7254902 ],\n",
       "        [0.72156863],\n",
       "        [0.71372549]],\n",
       "\n",
       "       [[0.52156863],\n",
       "        [0.55294118],\n",
       "        [0.58431373],\n",
       "        [0.60784314],\n",
       "        [0.61960784],\n",
       "        [0.62745098],\n",
       "        [0.68235294],\n",
       "        [0.78823529],\n",
       "        [0.74117647],\n",
       "        [0.64705882],\n",
       "        [0.59215686],\n",
       "        [0.56078431],\n",
       "        [0.57254902],\n",
       "        [0.47058824],\n",
       "        [0.34117647],\n",
       "        [0.30588235],\n",
       "        [0.34117647],\n",
       "        [0.29803922],\n",
       "        [0.42352941],\n",
       "        [0.38431373],\n",
       "        [0.37647059],\n",
       "        [0.70980392],\n",
       "        [0.7372549 ],\n",
       "        [0.73333333],\n",
       "        [0.72941176],\n",
       "        [0.72941176],\n",
       "        [0.7254902 ],\n",
       "        [0.71764706]],\n",
       "\n",
       "       [[0.52156863],\n",
       "        [0.55294118],\n",
       "        [0.58823529],\n",
       "        [0.61176471],\n",
       "        [0.62745098],\n",
       "        [0.63137255],\n",
       "        [0.70196078],\n",
       "        [0.77254902],\n",
       "        [0.68235294],\n",
       "        [0.52941176],\n",
       "        [0.38823529],\n",
       "        [0.28235294],\n",
       "        [0.37254902],\n",
       "        [0.5254902 ],\n",
       "        [0.38039216],\n",
       "        [0.28235294],\n",
       "        [0.29019608],\n",
       "        [0.26666667],\n",
       "        [0.45490196],\n",
       "        [0.41176471],\n",
       "        [0.42352941],\n",
       "        [0.73333333],\n",
       "        [0.74117647],\n",
       "        [0.73333333],\n",
       "        [0.73333333],\n",
       "        [0.72941176],\n",
       "        [0.72941176],\n",
       "        [0.7254902 ]],\n",
       "\n",
       "       [[0.5254902 ],\n",
       "        [0.56078431],\n",
       "        [0.59215686],\n",
       "        [0.61176471],\n",
       "        [0.63137255],\n",
       "        [0.63921569],\n",
       "        [0.70196078],\n",
       "        [0.76078431],\n",
       "        [0.61176471],\n",
       "        [0.43137255],\n",
       "        [0.29019608],\n",
       "        [0.16470588],\n",
       "        [0.20392157],\n",
       "        [0.54509804],\n",
       "        [0.36862745],\n",
       "        [0.2627451 ],\n",
       "        [0.29411765],\n",
       "        [0.29411765],\n",
       "        [0.4627451 ],\n",
       "        [0.41568627],\n",
       "        [0.50588235],\n",
       "        [0.74117647],\n",
       "        [0.74901961],\n",
       "        [0.74509804],\n",
       "        [0.7372549 ],\n",
       "        [0.7372549 ],\n",
       "        [0.73333333],\n",
       "        [0.72941176]],\n",
       "\n",
       "       [[0.52941176],\n",
       "        [0.56470588],\n",
       "        [0.59607843],\n",
       "        [0.61960784],\n",
       "        [0.63921569],\n",
       "        [0.63921569],\n",
       "        [0.69411765],\n",
       "        [0.75686275],\n",
       "        [0.63137255],\n",
       "        [0.47843137],\n",
       "        [0.32941176],\n",
       "        [0.16862745],\n",
       "        [0.27843137],\n",
       "        [0.5254902 ],\n",
       "        [0.31764706],\n",
       "        [0.22352941],\n",
       "        [0.27843137],\n",
       "        [0.34509804],\n",
       "        [0.43921569],\n",
       "        [0.38431373],\n",
       "        [0.61568627],\n",
       "        [0.75686275],\n",
       "        [0.75686275],\n",
       "        [0.75294118],\n",
       "        [0.74509804],\n",
       "        [0.74509804],\n",
       "        [0.74117647],\n",
       "        [0.7372549 ]],\n",
       "\n",
       "       [[0.53333333],\n",
       "        [0.56470588],\n",
       "        [0.59607843],\n",
       "        [0.61960784],\n",
       "        [0.63529412],\n",
       "        [0.63921569],\n",
       "        [0.69019608],\n",
       "        [0.75294118],\n",
       "        [0.64313725],\n",
       "        [0.50196078],\n",
       "        [0.38431373],\n",
       "        [0.24313725],\n",
       "        [0.23529412],\n",
       "        [0.39215686],\n",
       "        [0.27843137],\n",
       "        [0.29803922],\n",
       "        [0.37647059],\n",
       "        [0.39607843],\n",
       "        [0.41176471],\n",
       "        [0.37254902],\n",
       "        [0.68235294],\n",
       "        [0.76470588],\n",
       "        [0.76078431],\n",
       "        [0.76078431],\n",
       "        [0.76078431],\n",
       "        [0.75686275],\n",
       "        [0.74901961],\n",
       "        [0.74509804]],\n",
       "\n",
       "       [[0.5372549 ],\n",
       "        [0.56862745],\n",
       "        [0.59607843],\n",
       "        [0.62352941],\n",
       "        [0.64313725],\n",
       "        [0.64705882],\n",
       "        [0.69803922],\n",
       "        [0.74901961],\n",
       "        [0.64313725],\n",
       "        [0.52941176],\n",
       "        [0.44313725],\n",
       "        [0.32156863],\n",
       "        [0.23137255],\n",
       "        [0.34117647],\n",
       "        [0.38431373],\n",
       "        [0.43529412],\n",
       "        [0.47058824],\n",
       "        [0.42352941],\n",
       "        [0.38039216],\n",
       "        [0.42352941],\n",
       "        [0.74509804],\n",
       "        [0.76862745],\n",
       "        [0.76470588],\n",
       "        [0.76470588],\n",
       "        [0.76078431],\n",
       "        [0.75686275],\n",
       "        [0.75686275],\n",
       "        [0.75294118]],\n",
       "\n",
       "       [[0.54509804],\n",
       "        [0.57254902],\n",
       "        [0.60392157],\n",
       "        [0.62745098],\n",
       "        [0.64313725],\n",
       "        [0.64705882],\n",
       "        [0.68627451],\n",
       "        [0.72941176],\n",
       "        [0.63921569],\n",
       "        [0.54509804],\n",
       "        [0.43921569],\n",
       "        [0.33333333],\n",
       "        [0.2627451 ],\n",
       "        [0.4       ],\n",
       "        [0.49411765],\n",
       "        [0.52156863],\n",
       "        [0.49411765],\n",
       "        [0.41176471],\n",
       "        [0.40784314],\n",
       "        [0.69019608],\n",
       "        [0.77254902],\n",
       "        [0.77647059],\n",
       "        [0.77254902],\n",
       "        [0.76862745],\n",
       "        [0.76470588],\n",
       "        [0.76470588],\n",
       "        [0.76078431],\n",
       "        [0.75686275]],\n",
       "\n",
       "       [[0.54117647],\n",
       "        [0.57647059],\n",
       "        [0.60784314],\n",
       "        [0.63137255],\n",
       "        [0.64705882],\n",
       "        [0.65490196],\n",
       "        [0.6745098 ],\n",
       "        [0.72941176],\n",
       "        [0.63921569],\n",
       "        [0.5372549 ],\n",
       "        [0.41960784],\n",
       "        [0.34117647],\n",
       "        [0.29803922],\n",
       "        [0.41568627],\n",
       "        [0.47843137],\n",
       "        [0.49019608],\n",
       "        [0.45882353],\n",
       "        [0.37647059],\n",
       "        [0.61176471],\n",
       "        [0.78039216],\n",
       "        [0.78039216],\n",
       "        [0.78431373],\n",
       "        [0.77647059],\n",
       "        [0.76862745],\n",
       "        [0.76862745],\n",
       "        [0.76470588],\n",
       "        [0.76470588],\n",
       "        [0.76078431]],\n",
       "\n",
       "       [[0.54509804],\n",
       "        [0.58039216],\n",
       "        [0.61176471],\n",
       "        [0.63921569],\n",
       "        [0.65098039],\n",
       "        [0.65882353],\n",
       "        [0.6745098 ],\n",
       "        [0.70588235],\n",
       "        [0.61960784],\n",
       "        [0.51372549],\n",
       "        [0.42352941],\n",
       "        [0.38823529],\n",
       "        [0.3372549 ],\n",
       "        [0.42352941],\n",
       "        [0.4627451 ],\n",
       "        [0.45490196],\n",
       "        [0.40392157],\n",
       "        [0.41960784],\n",
       "        [0.74901961],\n",
       "        [0.79215686],\n",
       "        [0.78823529],\n",
       "        [0.78431373],\n",
       "        [0.78431373],\n",
       "        [0.78431373],\n",
       "        [0.78039216],\n",
       "        [0.77254902],\n",
       "        [0.77647059],\n",
       "        [0.76862745]],\n",
       "\n",
       "       [[0.54901961],\n",
       "        [0.58431373],\n",
       "        [0.61568627],\n",
       "        [0.64313725],\n",
       "        [0.65882353],\n",
       "        [0.65490196],\n",
       "        [0.69411765],\n",
       "        [0.69803922],\n",
       "        [0.60784314],\n",
       "        [0.51372549],\n",
       "        [0.4627451 ],\n",
       "        [0.41176471],\n",
       "        [0.34117647],\n",
       "        [0.39215686],\n",
       "        [0.41568627],\n",
       "        [0.39215686],\n",
       "        [0.37647059],\n",
       "        [0.64313725],\n",
       "        [0.79215686],\n",
       "        [0.79215686],\n",
       "        [0.79215686],\n",
       "        [0.79215686],\n",
       "        [0.79215686],\n",
       "        [0.78823529],\n",
       "        [0.78431373],\n",
       "        [0.78039216],\n",
       "        [0.78039216],\n",
       "        [0.77647059]],\n",
       "\n",
       "       [[0.54901961],\n",
       "        [0.58823529],\n",
       "        [0.61568627],\n",
       "        [0.64705882],\n",
       "        [0.65490196],\n",
       "        [0.66666667],\n",
       "        [0.70980392],\n",
       "        [0.68627451],\n",
       "        [0.59607843],\n",
       "        [0.50980392],\n",
       "        [0.45098039],\n",
       "        [0.38431373],\n",
       "        [0.32156863],\n",
       "        [0.33333333],\n",
       "        [0.35294118],\n",
       "        [0.38823529],\n",
       "        [0.64705882],\n",
       "        [0.79215686],\n",
       "        [0.79607843],\n",
       "        [0.8       ],\n",
       "        [0.79607843],\n",
       "        [0.79607843],\n",
       "        [0.79215686],\n",
       "        [0.79215686],\n",
       "        [0.78823529],\n",
       "        [0.78823529],\n",
       "        [0.78431373],\n",
       "        [0.78431373]],\n",
       "\n",
       "       [[0.55686275],\n",
       "        [0.58823529],\n",
       "        [0.62352941],\n",
       "        [0.64705882],\n",
       "        [0.66666667],\n",
       "        [0.74901961],\n",
       "        [0.67843137],\n",
       "        [0.61568627],\n",
       "        [0.56470588],\n",
       "        [0.46666667],\n",
       "        [0.38039216],\n",
       "        [0.32941176],\n",
       "        [0.30980392],\n",
       "        [0.30980392],\n",
       "        [0.35686275],\n",
       "        [0.6745098 ],\n",
       "        [0.79215686],\n",
       "        [0.79607843],\n",
       "        [0.79607843],\n",
       "        [0.80392157],\n",
       "        [0.8       ],\n",
       "        [0.8       ],\n",
       "        [0.8       ],\n",
       "        [0.79607843],\n",
       "        [0.79215686],\n",
       "        [0.79215686],\n",
       "        [0.78823529],\n",
       "        [0.78431373]],\n",
       "\n",
       "       [[0.55686275],\n",
       "        [0.59215686],\n",
       "        [0.62745098],\n",
       "        [0.64705882],\n",
       "        [0.7372549 ],\n",
       "        [0.74509804],\n",
       "        [0.73333333],\n",
       "        [0.58823529],\n",
       "        [0.46666667],\n",
       "        [0.42745098],\n",
       "        [0.33333333],\n",
       "        [0.30980392],\n",
       "        [0.30980392],\n",
       "        [0.30588235],\n",
       "        [0.5372549 ],\n",
       "        [0.79607843],\n",
       "        [0.80392157],\n",
       "        [0.80784314],\n",
       "        [0.80784314],\n",
       "        [0.81176471],\n",
       "        [0.81176471],\n",
       "        [0.80784314],\n",
       "        [0.80784314],\n",
       "        [0.8       ],\n",
       "        [0.80392157],\n",
       "        [0.8       ],\n",
       "        [0.79607843],\n",
       "        [0.79215686]],\n",
       "\n",
       "       [[0.55686275],\n",
       "        [0.59215686],\n",
       "        [0.62745098],\n",
       "        [0.6745098 ],\n",
       "        [0.76862745],\n",
       "        [0.7372549 ],\n",
       "        [0.7372549 ],\n",
       "        [0.74509804],\n",
       "        [0.52941176],\n",
       "        [0.37647059],\n",
       "        [0.3372549 ],\n",
       "        [0.30196078],\n",
       "        [0.30196078],\n",
       "        [0.30980392],\n",
       "        [0.69019608],\n",
       "        [0.80392157],\n",
       "        [0.81176471],\n",
       "        [0.81176471],\n",
       "        [0.81176471],\n",
       "        [0.81176471],\n",
       "        [0.81176471],\n",
       "        [0.81176471],\n",
       "        [0.80784314],\n",
       "        [0.80784314],\n",
       "        [0.80784314],\n",
       "        [0.8       ],\n",
       "        [0.79607843],\n",
       "        [0.79215686]]])"
      ]
     },
     "execution_count": 234,
     "metadata": {},
     "output_type": "execute_result"
    }
   ],
   "source": [
    "X_train_values[0]"
   ]
  },
  {
   "cell_type": "code",
   "execution_count": 235,
   "metadata": {},
   "outputs": [],
   "source": [
    "x_test = df_test.drop([\"label\"], axis=1)"
   ]
  },
  {
   "cell_type": "code",
   "execution_count": 236,
   "metadata": {},
   "outputs": [],
   "source": [
    "y_test = df_test[\"label\"]"
   ]
  },
  {
   "cell_type": "code",
   "execution_count": 237,
   "metadata": {},
   "outputs": [],
   "source": [
    "x_test = x_test / 255"
   ]
  },
  {
   "cell_type": "code",
   "execution_count": 211,
   "metadata": {},
   "outputs": [],
   "source": [
    "from tensorflow.keras.layers import Conv2D, BatchNormalization, MaxPool2D, Dropout, Flatten, Dense"
   ]
  },
  {
   "cell_type": "code",
   "execution_count": 226,
   "metadata": {},
   "outputs": [
    {
     "name": "stdout",
     "output_type": "stream",
     "text": [
      "Model: \"sequential_12\"\n",
      "_________________________________________________________________\n",
      "Layer (type)                 Output Shape              Param #   \n",
      "=================================================================\n",
      "conv2d_6 (Conv2D)            (None, 28, 28, 75)        750       \n",
      "_________________________________________________________________\n",
      "batch_normalization_6 (Batch (None, 28, 28, 75)        300       \n",
      "_________________________________________________________________\n",
      "max_pooling2d_6 (MaxPooling2 (None, 14, 14, 75)        0         \n",
      "_________________________________________________________________\n",
      "conv2d_7 (Conv2D)            (None, 14, 14, 50)        33800     \n",
      "_________________________________________________________________\n",
      "dropout_14 (Dropout)         (None, 14, 14, 50)        0         \n",
      "_________________________________________________________________\n",
      "batch_normalization_7 (Batch (None, 14, 14, 50)        200       \n",
      "_________________________________________________________________\n",
      "max_pooling2d_7 (MaxPooling2 (None, 7, 7, 50)          0         \n",
      "_________________________________________________________________\n",
      "conv2d_8 (Conv2D)            (None, 7, 7, 25)          11275     \n",
      "_________________________________________________________________\n",
      "batch_normalization_8 (Batch (None, 7, 7, 25)          100       \n",
      "_________________________________________________________________\n",
      "max_pooling2d_8 (MaxPooling2 (None, 4, 4, 25)          0         \n",
      "_________________________________________________________________\n",
      "flatten_2 (Flatten)          (None, 400)               0         \n",
      "_________________________________________________________________\n",
      "dense_51 (Dense)             (None, 512)               205312    \n",
      "_________________________________________________________________\n",
      "dropout_15 (Dropout)         (None, 512)               0         \n",
      "_________________________________________________________________\n",
      "dense_52 (Dense)             (None, 26)                13338     \n",
      "=================================================================\n",
      "Total params: 265,075\n",
      "Trainable params: 264,775\n",
      "Non-trainable params: 300\n",
      "_________________________________________________________________\n"
     ]
    }
   ],
   "source": [
    "model = keras.Sequential()\n",
    "model.add(Conv2D(75 , (3,3) , strides = 1 , padding = 'same' , activation = 'relu' , input_shape = (28,28,1)))\n",
    "model.add(BatchNormalization())\n",
    "model.add(MaxPool2D((2,2) , strides = 2 , padding = 'same'))\n",
    "model.add(Conv2D(50 , (3,3) , strides = 1 , padding = 'same' , activation = 'relu'))\n",
    "model.add(Dropout(0.2))\n",
    "model.add(BatchNormalization())\n",
    "model.add(MaxPool2D((2,2) , strides = 2 , padding = 'same'))\n",
    "model.add(Conv2D(25 , (3,3) , strides = 1 , padding = 'same' , activation = 'relu'))\n",
    "model.add(BatchNormalization())\n",
    "model.add(MaxPool2D((2,2) , strides = 2 , padding = 'same'))\n",
    "model.add(Flatten())\n",
    "model.add(Dense(units = 512 , activation = 'relu'))\n",
    "model.add(Dropout(0.3))\n",
    "model.add(Dense(units = 26 , activation = 'softmax'))\n",
    "model.compile(optimizer = 'adam' , loss = 'categorical_crossentropy' , metrics = ['accuracy'])\n",
    "model.summary()"
   ]
  },
  {
   "cell_type": "code",
   "execution_count": 222,
   "metadata": {},
   "outputs": [],
   "source": [
    "X_train_values = X_train_values.reshape(-1, 28, 28, 1)"
   ]
  },
  {
   "cell_type": "code",
   "execution_count": null,
   "metadata": {},
   "outputs": [],
   "source": []
  },
  {
   "cell_type": "code",
   "execution_count": 223,
   "metadata": {},
   "outputs": [],
   "source": [
    "learning_rate_reduction = keras.callbacks.ReduceLROnPlateau(monitor='val_accuracy', patience = 2, verbose=1,factor=0.5, min_lr=0.00001)"
   ]
  },
  {
   "cell_type": "code",
   "execution_count": 224,
   "metadata": {},
   "outputs": [],
   "source": [
    "datagen = keras.preprocessing.image.ImageDataGenerator(\n",
    "        featurewise_center=False,  # set input mean to 0 over the dataset\n",
    "        samplewise_center=False,  # set each sample mean to 0\n",
    "        featurewise_std_normalization=False,  # divide inputs by std of the dataset\n",
    "        samplewise_std_normalization=False,  # divide each input by its std\n",
    "        zca_whitening=False,  # apply ZCA whitening\n",
    "        rotation_range=10,  # randomly rotate images in the range (degrees, 0 to 180)\n",
    "        zoom_range = 0.1, # Randomly zoom image \n",
    "        width_shift_range=0.1,  # randomly shift images horizontally (fraction of total width)\n",
    "        height_shift_range=0.1,  # randomly shift images vertically (fraction of total height)\n",
    "        horizontal_flip=False,  # randomly flip images\n",
    "        vertical_flip=False)"
   ]
  },
  {
   "cell_type": "code",
   "execution_count": 227,
   "metadata": {},
   "outputs": [
    {
     "name": "stdout",
     "output_type": "stream",
     "text": [
      "Epoch 1/6\n",
      "215/215 [==============================] - ETA: 0s - loss: 1.0258 - accuracy: 0.6801WARNING:tensorflow:Reduce LR on plateau conditioned on metric `val_accuracy` which is not available. Available metrics are: loss,accuracy,lr\n",
      "215/215 [==============================] - 73s 340ms/step - loss: 1.0258 - accuracy: 0.6801\n",
      "Epoch 2/6\n",
      "215/215 [==============================] - ETA: 0s - loss: 0.2025 - accuracy: 0.9333WARNING:tensorflow:Reduce LR on plateau conditioned on metric `val_accuracy` which is not available. Available metrics are: loss,accuracy,lr\n",
      "215/215 [==============================] - 77s 357ms/step - loss: 0.2025 - accuracy: 0.9333\n",
      "Epoch 3/6\n",
      "215/215 [==============================] - ETA: 0s - loss: 0.0955 - accuracy: 0.9703WARNING:tensorflow:Reduce LR on plateau conditioned on metric `val_accuracy` which is not available. Available metrics are: loss,accuracy,lr\n",
      "215/215 [==============================] - 78s 365ms/step - loss: 0.0955 - accuracy: 0.9703\n",
      "Epoch 4/6\n",
      "215/215 [==============================] - ETA: 0s - loss: 0.0653 - accuracy: 0.9788WARNING:tensorflow:Reduce LR on plateau conditioned on metric `val_accuracy` which is not available. Available metrics are: loss,accuracy,lr\n",
      "215/215 [==============================] - 75s 347ms/step - loss: 0.0653 - accuracy: 0.9788\n",
      "Epoch 5/6\n",
      "215/215 [==============================] - ETA: 0s - loss: 0.0427 - accuracy: 0.9867WARNING:tensorflow:Reduce LR on plateau conditioned on metric `val_accuracy` which is not available. Available metrics are: loss,accuracy,lr\n",
      "215/215 [==============================] - 76s 351ms/step - loss: 0.0427 - accuracy: 0.9867\n",
      "Epoch 6/6\n",
      "215/215 [==============================] - ETA: 0s - loss: 0.0381 - accuracy: 0.9875WARNING:tensorflow:Reduce LR on plateau conditioned on metric `val_accuracy` which is not available. Available metrics are: loss,accuracy,lr\n",
      "215/215 [==============================] - 78s 364ms/step - loss: 0.0381 - accuracy: 0.9875\n"
     ]
    },
    {
     "data": {
      "text/plain": [
       "<tensorflow.python.keras.callbacks.History at 0x10589b5a190>"
      ]
     },
     "execution_count": 227,
     "metadata": {},
     "output_type": "execute_result"
    }
   ],
   "source": [
    "model.fit(datagen.flow(X_train_values, Y_train_values, batch_size=128), epochs=6, callbacks=[learning_rate_reduction])"
   ]
  },
  {
   "cell_type": "code",
   "execution_count": 240,
   "metadata": {},
   "outputs": [],
   "source": [
    "X_test = df_test.drop([\"label\"], axis=1).values.reshape(-1, 28, 28, 1)\n",
    "Y_test = df_test[\"label\"].values"
   ]
  },
  {
   "cell_type": "code",
   "execution_count": 243,
   "metadata": {},
   "outputs": [
    {
     "name": "stdout",
     "output_type": "stream",
     "text": [
      "WARNING:tensorflow:From <ipython-input-243-a3e3e5c68c66>:1: Sequential.predict_classes (from tensorflow.python.keras.engine.sequential) is deprecated and will be removed after 2021-01-01.\n",
      "Instructions for updating:\n",
      "Please use instead:* `np.argmax(model.predict(x), axis=-1)`,   if your model does multi-class classification   (e.g. if it uses a `softmax` last-layer activation).* `(model.predict(x) > 0.5).astype(\"int32\")`,   if your model does binary classification   (e.g. if it uses a `sigmoid` last-layer activation).\n"
     ]
    }
   ],
   "source": [
    "pred = model.predict_classes(X_test)"
   ]
  },
  {
   "cell_type": "code",
   "execution_count": 250,
   "metadata": {},
   "outputs": [
    {
     "data": {
      "image/png": "[encoded data removed]",
      "text/plain": [
       "<Figure size 432x288 with 1 Axes>"
      ]
     },
     "metadata": {
      "needs_background": "light"
     },
     "output_type": "display_data"
    },
    {
     "data": {
      "image/png": "[encoded data removed]",
      "text/plain": [
       "<Figure size 432x288 with 1 Axes>"
      ]
     },
     "metadata": {
      "needs_background": "light"
     },
     "output_type": "display_data"
    },
    {
     "data": {
      "image/png": "[encoded data removed]",
      "text/plain": [
       "<Figure size 432x288 with 1 Axes>"
      ]
     },
     "metadata": {
      "needs_background": "light"
     },
     "output_type": "display_data"
    },
    {
     "data": {
      "image/png": "[encoded data removed]",
      "text/plain": [
       "<Figure size 432x288 with 1 Axes>"
      ]
     },
     "metadata": {
      "needs_background": "light"
     },
     "output_type": "display_data"
    },
    {
     "data": {
      "image/png": "[encoded data removed]",
      "text/plain": [
       "<Figure size 432x288 with 1 Axes>"
      ]
     },
     "metadata": {
      "needs_background": "light"
     },
     "output_type": "display_data"
    },
    {
     "data": {
      "image/png": "[encoded data removed]",
      "text/plain": [
       "<Figure size 432x288 with 1 Axes>"
      ]
     },
     "metadata": {
      "needs_background": "light"
     },
     "output_type": "display_data"
    },
    {
     "data": {
      "image/png": "[encoded data removed]",
      "text/plain": [
       "<Figure size 432x288 with 1 Axes>"
      ]
     },
     "metadata": {
      "needs_background": "light"
     },
     "output_type": "display_data"
    },
    {
     "data": {
      "image/png": "[encoded data removed]",
      "text/plain": [
       "<Figure size 432x288 with 1 Axes>"
      ]
     },
     "metadata": {
      "needs_background": "light"
     },
     "output_type": "display_data"
    },
    {
     "data": {
      "image/png": "[encoded data removed]",
      "text/plain": [
       "<Figure size 432x288 with 1 Axes>"
      ]
     },
     "metadata": {
      "needs_background": "light"
     },
     "output_type": "display_data"
    },
    {
     "data": {
      "image/png": "[encoded data removed]",
      "text/plain": [
       "<Figure size 432x288 with 1 Axes>"
      ]
     },
     "metadata": {
      "needs_background": "light"
     },
     "output_type": "display_data"
    }
   ],
   "source": [
    "for i in range(10, 20):\n",
    "    plt.imshow(X_test[i].reshape(28, 28))\n",
    "    plt.xlabel(f\"Predicted: {labels[pred[i]]} Real Value: {labels[Y_test[i]]}\")\n",
    "    plt.show()"
   ]
  },
  {
   "cell_type": "code",
   "execution_count": 251,
   "metadata": {},
   "outputs": [],
   "source": [
    "!mkdir -p saved_data"
   ]
  },
  {
   "cell_type": "code",
   "execution_count": 252,
   "metadata": {},
   "outputs": [
    {
     "name": "stdout",
     "output_type": "stream",
     "text": [
      "WARNING:tensorflow:From C:\\Users\\Armaan Gupta\\Anaconda3\\lib\\site-packages\\tensorflow\\python\\training\\tracking\\tracking.py:111: Layer.updates (from tensorflow.python.keras.engine.base_layer) is deprecated and will be removed in a future version.\n",
      "Instructions for updating:\n",
      "This property should not be used in TensorFlow 2.0, as updates are applied automatically.\n",
      "INFO:tensorflow:Assets written to: saved_data/model_v1\\assets\n"
     ]
    }
   ],
   "source": [
    "model.save(\"saved_data/model_v1\")"
   ]
  },
  {
   "cell_type": "code",
   "execution_count": 255,
   "metadata": {},
   "outputs": [
    {
     "ename": "ImportError",
     "evalue": "cannot import name 'tfjs' from 'tensorflow' (C:\\Users\\Armaan Gupta\\Anaconda3\\lib\\site-packages\\tensorflow\\__init__.py)",
     "output_type": "error",
     "traceback": [
      "\u001b[1;31m---------------------------------------------------------------------------\u001b[0m",
      "\u001b[1;31mImportError\u001b[0m                               Traceback (most recent call last)",
      "\u001b[1;32m<ipython-input-255-865ad71aba08>\u001b[0m in \u001b[0;36m<module>\u001b[1;34m\u001b[0m\n\u001b[1;32m----> 1\u001b[1;33m \u001b[1;32mfrom\u001b[0m \u001b[0mtensorflow\u001b[0m \u001b[1;32mimport\u001b[0m \u001b[0mtfjs\u001b[0m\u001b[1;33m\u001b[0m\u001b[1;33m\u001b[0m\u001b[0m\n\u001b[0m",
      "\u001b[1;31mImportError\u001b[0m: cannot import name 'tfjs' from 'tensorflow' (C:\\Users\\Armaan Gupta\\Anaconda3\\lib\\site-packages\\tensorflow\\__init__.py)"
     ]
    }
   ],
   "source": []
  },
  {
   "cell_type": "code",
   "execution_count": null,
   "metadata": {},
   "outputs": [],
   "source": []
  }
 ],
 "metadata": {
  "kernelspec": {
   "display_name": "Python 3",
   "language": "python",
   "name": "python3"
  },
  "language_info": {
   "codemirror_mode": {
    "name": "ipython",
    "version": 3
   },
   "file_extension": ".py",
   "mimetype": "text/x-python",
   "name": "python",
   "nbconvert_exporter": "python",
   "pygments_lexer": "ipython3",
   "version": "3.8.3"
  }
 },
 "nbformat": 4,
 "nbformat_minor": 4
}
